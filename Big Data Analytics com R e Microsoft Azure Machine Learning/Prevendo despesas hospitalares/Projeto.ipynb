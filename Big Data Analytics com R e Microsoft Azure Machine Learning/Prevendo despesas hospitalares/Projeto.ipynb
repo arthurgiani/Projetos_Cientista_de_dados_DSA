{
 "cells": [
  {
   "cell_type": "code",
   "execution_count": 1,
   "metadata": {},
   "outputs": [],
   "source": [
    "# Prevendo Despesas Hospitalares "
   ]
  },
  {
   "cell_type": "code",
   "execution_count": 2,
   "metadata": {},
   "outputs": [],
   "source": [
    "#Importação de pacotes\n",
    "\n",
    "import numpy as np\n",
    "import pandas as pd\n",
    "import matplotlib.pyplot as plt\n",
    "import warnings\n",
    "warnings.filterwarnings('ignore')\n",
    "%matplotlib inline"
   ]
  },
  {
   "cell_type": "code",
   "execution_count": 3,
   "metadata": {},
   "outputs": [
    {
     "data": {
      "text/html": [
       "<div>\n",
       "<style scoped>\n",
       "    .dataframe tbody tr th:only-of-type {\n",
       "        vertical-align: middle;\n",
       "    }\n",
       "\n",
       "    .dataframe tbody tr th {\n",
       "        vertical-align: top;\n",
       "    }\n",
       "\n",
       "    .dataframe thead th {\n",
       "        text-align: right;\n",
       "    }\n",
       "</style>\n",
       "<table border=\"1\" class=\"dataframe\">\n",
       "  <thead>\n",
       "    <tr style=\"text-align: right;\">\n",
       "      <th></th>\n",
       "      <th>idade</th>\n",
       "      <th>sexo</th>\n",
       "      <th>bmi</th>\n",
       "      <th>filhos</th>\n",
       "      <th>fumante</th>\n",
       "      <th>regiao</th>\n",
       "      <th>gastos</th>\n",
       "    </tr>\n",
       "  </thead>\n",
       "  <tbody>\n",
       "    <tr>\n",
       "      <th>0</th>\n",
       "      <td>19</td>\n",
       "      <td>mulher</td>\n",
       "      <td>27.9</td>\n",
       "      <td>0</td>\n",
       "      <td>sim</td>\n",
       "      <td>sudeste</td>\n",
       "      <td>16884.92</td>\n",
       "    </tr>\n",
       "    <tr>\n",
       "      <th>1</th>\n",
       "      <td>18</td>\n",
       "      <td>homem</td>\n",
       "      <td>33.8</td>\n",
       "      <td>1</td>\n",
       "      <td>nao</td>\n",
       "      <td>sul</td>\n",
       "      <td>1725.55</td>\n",
       "    </tr>\n",
       "    <tr>\n",
       "      <th>2</th>\n",
       "      <td>28</td>\n",
       "      <td>homem</td>\n",
       "      <td>33.0</td>\n",
       "      <td>3</td>\n",
       "      <td>nao</td>\n",
       "      <td>sul</td>\n",
       "      <td>4449.46</td>\n",
       "    </tr>\n",
       "    <tr>\n",
       "      <th>3</th>\n",
       "      <td>33</td>\n",
       "      <td>homem</td>\n",
       "      <td>22.7</td>\n",
       "      <td>0</td>\n",
       "      <td>nao</td>\n",
       "      <td>nordeste</td>\n",
       "      <td>21984.47</td>\n",
       "    </tr>\n",
       "    <tr>\n",
       "      <th>4</th>\n",
       "      <td>32</td>\n",
       "      <td>homem</td>\n",
       "      <td>28.9</td>\n",
       "      <td>0</td>\n",
       "      <td>nao</td>\n",
       "      <td>nordeste</td>\n",
       "      <td>3866.86</td>\n",
       "    </tr>\n",
       "  </tbody>\n",
       "</table>\n",
       "</div>"
      ],
      "text/plain": [
       "   idade    sexo   bmi  filhos fumante    regiao    gastos\n",
       "0     19  mulher  27.9       0     sim   sudeste  16884.92\n",
       "1     18   homem  33.8       1     nao       sul   1725.55\n",
       "2     28   homem  33.0       3     nao       sul   4449.46\n",
       "3     33   homem  22.7       0     nao  nordeste  21984.47\n",
       "4     32   homem  28.9       0     nao  nordeste   3866.86"
      ]
     },
     "execution_count": 3,
     "metadata": {},
     "output_type": "execute_result"
    }
   ],
   "source": [
    "#Lendo o arquivo do projeto\n",
    "\n",
    "dataset = pd.read_csv ('dataset.csv')\n",
    "\n",
    "#Primeiras linhas do dataset \n",
    "dataset.head()\n"
   ]
  },
  {
   "cell_type": "code",
   "execution_count": 4,
   "metadata": {},
   "outputs": [
    {
     "data": {
      "text/plain": [
       "idade        int64\n",
       "sexo        object\n",
       "bmi        float64\n",
       "filhos       int64\n",
       "fumante     object\n",
       "regiao      object\n",
       "gastos     float64\n",
       "dtype: object"
      ]
     },
     "execution_count": 4,
     "metadata": {},
     "output_type": "execute_result"
    }
   ],
   "source": [
    "#Verificando o tipo das variáveis\n",
    "\n",
    "dataset.dtypes\n",
    "\n"
   ]
  },
  {
   "cell_type": "code",
   "execution_count": 5,
   "metadata": {},
   "outputs": [
    {
     "data": {
      "text/plain": [
       "gastos     0\n",
       "regiao     0\n",
       "fumante    0\n",
       "filhos     0\n",
       "bmi        0\n",
       "sexo       0\n",
       "idade      0\n",
       "dtype: int64"
      ]
     },
     "execution_count": 5,
     "metadata": {},
     "output_type": "execute_result"
    }
   ],
   "source": [
    "#Verificando valores nulos\n",
    "\n",
    "dataset.isnull().sum().sort_values(ascending = False)\n",
    "\n",
    "#Nenhum valor nulo"
   ]
  },
  {
   "cell_type": "code",
   "execution_count": 6,
   "metadata": {},
   "outputs": [
    {
     "data": {
      "text/plain": [
       "idade        0\n",
       "sexo         0\n",
       "bmi          0\n",
       "filhos     574\n",
       "fumante      0\n",
       "regiao       0\n",
       "gastos       0\n",
       "dtype: int64"
      ]
     },
     "execution_count": 6,
     "metadata": {},
     "output_type": "execute_result"
    }
   ],
   "source": [
    "#Verificando valores zero\n",
    "\n",
    "(dataset==0).sum()\n",
    "\n",
    "#Valores 0 em ''filhos'' são permitidos, portanto, não serão tratados."
   ]
  },
  {
   "cell_type": "code",
   "execution_count": 7,
   "metadata": {},
   "outputs": [
    {
     "data": {
      "image/png": "[encoded data removed]",
      "text/plain": [
       "<Figure size 432x288 with 1 Axes>"
      ]
     },
     "metadata": {
      "needs_background": "light"
     },
     "output_type": "display_data"
    }
   ],
   "source": [
    "#Analisando os dados\n",
    "\n",
    "plt.hist(dataset['gastos'], histtype = 'bar', rwidth = 0.7)\n",
    "\n",
    "plt.title('Despesas hospitalares')\n",
    "plt.xlabel('R$')\n",
    "plt.ylabel('Quantidade de pacientes')\n",
    "\n",
    "plt.show()\n",
    "\n",
    "#A maioria das despesas hospitalares são de até R$ 10000,00."
   ]
  },
  {
   "cell_type": "code",
   "execution_count": 8,
   "metadata": {},
   "outputs": [
    {
     "data": {
      "image/png": "[encoded data removed]",
      "text/plain": [
       "<Figure size 432x288 with 1 Axes>"
      ]
     },
     "metadata": {
      "needs_background": "light"
     },
     "output_type": "display_data"
    }
   ],
   "source": [
    "plt.hist(dataset['idade'], histtype = 'bar', rwidth = 0.7)\n",
    "\n",
    "plt.title('Idade')\n",
    "plt.xlabel('Anos')\n",
    "plt.ylabel('Qtde')\n",
    "\n",
    "plt.show()\n",
    "\n",
    "#O grupo mais representativo da amostra está na faixa dos 20 anos de idade, porém todas as faixas etárias (até aproximadamente 70 anos)\n",
    "#estão bem representadas.\n",
    "\n"
   ]
  },
  {
   "cell_type": "code",
   "execution_count": 9,
   "metadata": {},
   "outputs": [
    {
     "data": {
      "image/png": "[encoded data removed]",
      "text/plain": [
       "<Figure size 432x288 with 1 Axes>"
      ]
     },
     "metadata": {
      "needs_background": "light"
     },
     "output_type": "display_data"
    }
   ],
   "source": [
    "plt.hist(dataset['bmi'], histtype = 'bar', rwidth = 0.7)\n",
    "\n",
    "plt.title('BMI')\n",
    "plt.xlabel('bmi')\n",
    "plt.ylabel('Qtde')\n",
    "\n",
    "#Considerando que a grande parte da amostra possui BMI igual ou maior que 25, pode-se afirmar que parte de significativa das pessoas\n",
    "#está perto ou ultrapassou a marca do sobrepeso (bmi > 30)\n",
    "\n",
    "plt.show()"
   ]
  },
  {
   "cell_type": "code",
   "execution_count": 10,
   "metadata": {},
   "outputs": [
    {
     "data": {
      "image/png": "[encoded data removed]",
      "text/plain": [
       "<Figure size 432x288 with 1 Axes>"
      ]
     },
     "metadata": {
      "needs_background": "light"
     },
     "output_type": "display_data"
    }
   ],
   "source": [
    "plt.hist(dataset['filhos'], histtype = 'bar', rwidth = 0.8)\n",
    "\n",
    "plt.title('Filhos')\n",
    "plt.xlabel('Número de filhos')\n",
    "plt.ylabel('Qtde')\n",
    "\n",
    "plt.show()\n",
    "\n",
    "#Na amostra do projeto, pacientes com 4 ou 5 filhos são raros. Em contramão, a maioria possui até 1 filho. Quanto maior a quantidade\n",
    "#de filhos, menor o número de pacientes do estudo."
   ]
  },
  {
   "cell_type": "code",
   "execution_count": 11,
   "metadata": {},
   "outputs": [],
   "source": [
    "### Construção dos Gráficos de Pizza para as variáveis categóricas"
   ]
  },
  {
   "cell_type": "code",
   "execution_count": 12,
   "metadata": {},
   "outputs": [
    {
     "data": {
      "image/png": "[encoded data removed]",
      "text/plain": [
       "<Figure size 432x288 with 1 Axes>"
      ]
     },
     "metadata": {},
     "output_type": "display_data"
    }
   ],
   "source": [
    "dataset['sexo'].value_counts()\n",
    "\n",
    "quantia = [676, 662]\n",
    "tipos = ['Homem', 'Mulher']\n",
    "cor = ['r', 'g']\n",
    "\n",
    "plt.pie(quantia, labels = tipos, colors = cor, autopct='%.1f%%')\n",
    "plt.title (\"Distribuição do Sexo\")\n",
    "plt.subplots_adjust(wspace=1)\n",
    "\n",
    "plt.show()\n",
    "\n",
    "\n",
    "\n",
    "#Predominância de não fumantes no estudo."
   ]
  },
  {
   "cell_type": "code",
   "execution_count": 13,
   "metadata": {},
   "outputs": [
    {
     "data": {
      "image/png": "[encoded data removed]",
      "text/plain": [
       "<Figure size 432x288 with 1 Axes>"
      ]
     },
     "metadata": {},
     "output_type": "display_data"
    }
   ],
   "source": [
    "dataset['fumante'].value_counts()\n",
    "\n",
    "quantia = [1064, 274]\n",
    "tipos = ['Não fumantes', 'Fumantes']\n",
    "cor = ['r', 'g']\n",
    "\n",
    "plt.pie(quantia, labels = tipos, colors = cor, autopct='%.1f%%')\n",
    "plt.title (\"Distribuição de Fumantes\")\n",
    "plt.show()"
   ]
  },
  {
   "cell_type": "code",
   "execution_count": 14,
   "metadata": {},
   "outputs": [
    {
     "data": {
      "image/png": "[encoded data removed]",
      "text/plain": [
       "<Figure size 432x288 with 1 Axes>"
      ]
     },
     "metadata": {},
     "output_type": "display_data"
    }
   ],
   "source": [
    "dataset['regiao'].value_counts()\n",
    "\n",
    "quantia = [364, 325,325, 324]\n",
    "tipos = ['Sul', 'Nordeste', 'Sudeste', 'Norte']\n",
    "cor = ['r', 'g', 'b', 'orange']\n",
    "\n",
    "plt.pie(quantia, labels = tipos, colors = cor, autopct='%.1f%%')\n",
    "plt.title (\"Distribuição por Região\")\n",
    "plt.show()"
   ]
  },
  {
   "cell_type": "code",
   "execution_count": 15,
   "metadata": {},
   "outputs": [],
   "source": [
    "#Verificando a relação das variáveis categóricas com a variável preditora"
   ]
  },
  {
   "cell_type": "code",
   "execution_count": 16,
   "metadata": {},
   "outputs": [],
   "source": [
    "import seaborn as sns"
   ]
  },
  {
   "cell_type": "code",
   "execution_count": 17,
   "metadata": {},
   "outputs": [
    {
     "data": {
      "text/plain": [
       "Text(0.5, 1.0, 'Sexo x Gastos')"
      ]
     },
     "execution_count": 17,
     "metadata": {},
     "output_type": "execute_result"
    },
    {
     "data": {
      "image/png": "[encoded data removed]",
      "text/plain": [
       "<Figure size 360x360 with 1 Axes>"
      ]
     },
     "metadata": {
      "needs_background": "light"
     },
     "output_type": "display_data"
    }
   ],
   "source": [
    "sns.catplot(x=\"sexo\", y=\"gastos\", data=dataset)\n",
    "plt.title ('Sexo x Gastos')\n",
    "\n",
    "#O sexo não interefere no gasto hospitalar médio."
   ]
  },
  {
   "cell_type": "code",
   "execution_count": 18,
   "metadata": {},
   "outputs": [
    {
     "data": {
      "text/plain": [
       "Text(0.5, 1.0, 'Fumante x Gastos')"
      ]
     },
     "execution_count": 18,
     "metadata": {},
     "output_type": "execute_result"
    },
    {
     "data": {
      "image/png": "[encoded data removed]",
      "text/plain": [
       "<Figure size 360x360 with 1 Axes>"
      ]
     },
     "metadata": {
      "needs_background": "light"
     },
     "output_type": "display_data"
    }
   ],
   "source": [
    "sns.catplot(x=\"fumante\", y=\"gastos\", data=dataset)\n",
    "plt.title ('Fumante x Gastos')\n",
    "\n",
    "#Por mais que seja uma deduão lógica, o gráfico abaixo comprova que fumantes tem uma média de gastos maiores no setor hospitalar\n",
    "#em relação aos não fumantes."
   ]
  },
  {
   "cell_type": "code",
   "execution_count": 19,
   "metadata": {},
   "outputs": [
    {
     "data": {
      "text/plain": [
       "Text(0.5, 1.0, 'Região x Gastos')"
      ]
     },
     "execution_count": 19,
     "metadata": {},
     "output_type": "execute_result"
    },
    {
     "data": {
      "image/png": "[encoded data removed]",
      "text/plain": [
       "<Figure size 360x360 with 1 Axes>"
      ]
     },
     "metadata": {
      "needs_background": "light"
     },
     "output_type": "display_data"
    }
   ],
   "source": [
    "sns.catplot(x=\"regiao\", y=\"gastos\", data=dataset)\n",
    "plt.title ('Região x Gastos')\n",
    "\n",
    "#A região não interefere na média de gastos hospitalares."
   ]
  },
  {
   "cell_type": "code",
   "execution_count": 20,
   "metadata": {},
   "outputs": [],
   "source": [
    "#Verificando a relação das variáveis numéricas com a variável target"
   ]
  },
  {
   "cell_type": "code",
   "execution_count": 21,
   "metadata": {},
   "outputs": [
    {
     "data": {
      "text/plain": [
       "Text(0, 0.5, 'Gastos')"
      ]
     },
     "execution_count": 21,
     "metadata": {},
     "output_type": "execute_result"
    },
    {
     "data": {
      "image/png": "[encoded data removed]",
      "text/plain": [
       "<Figure size 432x288 with 1 Axes>"
      ]
     },
     "metadata": {
      "needs_background": "light"
     },
     "output_type": "display_data"
    }
   ],
   "source": [
    "plt.scatter ('bmi', 'gastos', data= dataset)\n",
    "plt.title('Relação BMI x Gastos')\n",
    "plt.xlabel('BMI')\n",
    "plt.ylabel('Gastos')\n",
    "\n",
    "#Este gráfico nos mostra que pacientes com índice de massa corpórea (BMI) alto (entre 30 e 40) possúem mais registros de altos\n",
    "#gastos hospitalares, com um número significativo de despesas acima dos 35 mil."
   ]
  },
  {
   "cell_type": "code",
   "execution_count": 22,
   "metadata": {},
   "outputs": [
    {
     "data": {
      "text/plain": [
       "Text(0, 0.5, 'Gastos')"
      ]
     },
     "execution_count": 22,
     "metadata": {},
     "output_type": "execute_result"
    },
    {
     "data": {
      "image/png": "[encoded data removed]",
      "text/plain": [
       "<Figure size 432x288 with 1 Axes>"
      ]
     },
     "metadata": {
      "needs_background": "light"
     },
     "output_type": "display_data"
    }
   ],
   "source": [
    "plt.scatter ('idade', 'gastos', data= dataset)\n",
    "plt.title('Relação Idade x Gastos')\n",
    "plt.xlabel('Idade')\n",
    "plt.ylabel('Gastos')\n",
    "\n",
    "#Como pode ser visto no crescimento da curva, a idade possui relação proporcional com os gastos. Quanto maior a idade, maior \n",
    "# a probabilidade de despesas hospitalares significativas."
   ]
  },
  {
   "cell_type": "code",
   "execution_count": 23,
   "metadata": {},
   "outputs": [
    {
     "data": {
      "text/plain": [
       "Text(0, 0.5, 'Gastos')"
      ]
     },
     "execution_count": 23,
     "metadata": {},
     "output_type": "execute_result"
    },
    {
     "data": {
      "image/png": "[encoded data removed]",
      "text/plain": [
       "<Figure size 432x288 with 1 Axes>"
      ]
     },
     "metadata": {
      "needs_background": "light"
     },
     "output_type": "display_data"
    }
   ],
   "source": [
    "plt.scatter ('filhos', 'gastos', data= dataset)\n",
    "plt.title('Relação Filhos x Gastos')\n",
    "plt.xlabel('Filhos')\n",
    "plt.ylabel('Gastos')\n",
    "\n"
   ]
  },
  {
   "cell_type": "code",
   "execution_count": 24,
   "metadata": {},
   "outputs": [],
   "source": [
    "# A seguir, o processo de limpeza e tratamento dos dados será feito para que o modelo preditivo seja construído. Neste trabalho\n",
    "#Serão testados dois tipos de algoritmos: o de regressão linear, e o RandomForest."
   ]
  },
  {
   "cell_type": "code",
   "execution_count": 25,
   "metadata": {},
   "outputs": [],
   "source": [
    "#Preparando os dados para o modelo Preditivo\n",
    "\n",
    "#1 - One-Hot Encoding das variáveis 'sexo', 'fumante' e 'regiao' em variáveis categóricas.\n",
    "#2 - Normalização das colunas numéricas."
   ]
  },
  {
   "cell_type": "code",
   "execution_count": 26,
   "metadata": {},
   "outputs": [],
   "source": [
    "#1 - Transformação das variáveis categóricas\n",
    "\n",
    "dataset2 = pd.get_dummies(dataset)"
   ]
  },
  {
   "cell_type": "code",
   "execution_count": 27,
   "metadata": {},
   "outputs": [
    {
     "data": {
      "text/html": [
       "<div>\n",
       "<style scoped>\n",
       "    .dataframe tbody tr th:only-of-type {\n",
       "        vertical-align: middle;\n",
       "    }\n",
       "\n",
       "    .dataframe tbody tr th {\n",
       "        vertical-align: top;\n",
       "    }\n",
       "\n",
       "    .dataframe thead th {\n",
       "        text-align: right;\n",
       "    }\n",
       "</style>\n",
       "<table border=\"1\" class=\"dataframe\">\n",
       "  <thead>\n",
       "    <tr style=\"text-align: right;\">\n",
       "      <th></th>\n",
       "      <th>idade</th>\n",
       "      <th>bmi</th>\n",
       "      <th>filhos</th>\n",
       "      <th>gastos</th>\n",
       "      <th>sexo_homem</th>\n",
       "      <th>sexo_mulher</th>\n",
       "      <th>fumante_nao</th>\n",
       "      <th>fumante_sim</th>\n",
       "      <th>regiao_nordeste</th>\n",
       "      <th>regiao_norte</th>\n",
       "      <th>regiao_sudeste</th>\n",
       "      <th>regiao_sul</th>\n",
       "    </tr>\n",
       "  </thead>\n",
       "  <tbody>\n",
       "    <tr>\n",
       "      <th>0</th>\n",
       "      <td>19</td>\n",
       "      <td>27.9</td>\n",
       "      <td>0</td>\n",
       "      <td>16884.92</td>\n",
       "      <td>0</td>\n",
       "      <td>1</td>\n",
       "      <td>0</td>\n",
       "      <td>1</td>\n",
       "      <td>0</td>\n",
       "      <td>0</td>\n",
       "      <td>1</td>\n",
       "      <td>0</td>\n",
       "    </tr>\n",
       "    <tr>\n",
       "      <th>1</th>\n",
       "      <td>18</td>\n",
       "      <td>33.8</td>\n",
       "      <td>1</td>\n",
       "      <td>1725.55</td>\n",
       "      <td>1</td>\n",
       "      <td>0</td>\n",
       "      <td>1</td>\n",
       "      <td>0</td>\n",
       "      <td>0</td>\n",
       "      <td>0</td>\n",
       "      <td>0</td>\n",
       "      <td>1</td>\n",
       "    </tr>\n",
       "    <tr>\n",
       "      <th>2</th>\n",
       "      <td>28</td>\n",
       "      <td>33.0</td>\n",
       "      <td>3</td>\n",
       "      <td>4449.46</td>\n",
       "      <td>1</td>\n",
       "      <td>0</td>\n",
       "      <td>1</td>\n",
       "      <td>0</td>\n",
       "      <td>0</td>\n",
       "      <td>0</td>\n",
       "      <td>0</td>\n",
       "      <td>1</td>\n",
       "    </tr>\n",
       "    <tr>\n",
       "      <th>3</th>\n",
       "      <td>33</td>\n",
       "      <td>22.7</td>\n",
       "      <td>0</td>\n",
       "      <td>21984.47</td>\n",
       "      <td>1</td>\n",
       "      <td>0</td>\n",
       "      <td>1</td>\n",
       "      <td>0</td>\n",
       "      <td>1</td>\n",
       "      <td>0</td>\n",
       "      <td>0</td>\n",
       "      <td>0</td>\n",
       "    </tr>\n",
       "    <tr>\n",
       "      <th>4</th>\n",
       "      <td>32</td>\n",
       "      <td>28.9</td>\n",
       "      <td>0</td>\n",
       "      <td>3866.86</td>\n",
       "      <td>1</td>\n",
       "      <td>0</td>\n",
       "      <td>1</td>\n",
       "      <td>0</td>\n",
       "      <td>1</td>\n",
       "      <td>0</td>\n",
       "      <td>0</td>\n",
       "      <td>0</td>\n",
       "    </tr>\n",
       "  </tbody>\n",
       "</table>\n",
       "</div>"
      ],
      "text/plain": [
       "   idade   bmi  filhos    gastos  sexo_homem  sexo_mulher  fumante_nao  \\\n",
       "0     19  27.9       0  16884.92           0            1            0   \n",
       "1     18  33.8       1   1725.55           1            0            1   \n",
       "2     28  33.0       3   4449.46           1            0            1   \n",
       "3     33  22.7       0  21984.47           1            0            1   \n",
       "4     32  28.9       0   3866.86           1            0            1   \n",
       "\n",
       "   fumante_sim  regiao_nordeste  regiao_norte  regiao_sudeste  regiao_sul  \n",
       "0            1                0             0               1           0  \n",
       "1            0                0             0               0           1  \n",
       "2            0                0             0               0           1  \n",
       "3            0                1             0               0           0  \n",
       "4            0                1             0               0           0  "
      ]
     },
     "execution_count": 27,
     "metadata": {},
     "output_type": "execute_result"
    }
   ],
   "source": [
    "dataset2.head()"
   ]
  },
  {
   "cell_type": "code",
   "execution_count": 28,
   "metadata": {},
   "outputs": [
    {
     "data": {
      "text/html": [
       "<div>\n",
       "<style scoped>\n",
       "    .dataframe tbody tr th:only-of-type {\n",
       "        vertical-align: middle;\n",
       "    }\n",
       "\n",
       "    .dataframe tbody tr th {\n",
       "        vertical-align: top;\n",
       "    }\n",
       "\n",
       "    .dataframe thead th {\n",
       "        text-align: right;\n",
       "    }\n",
       "</style>\n",
       "<table border=\"1\" class=\"dataframe\">\n",
       "  <thead>\n",
       "    <tr style=\"text-align: right;\">\n",
       "      <th></th>\n",
       "      <th>gastos</th>\n",
       "      <th>sexo_homem</th>\n",
       "      <th>sexo_mulher</th>\n",
       "      <th>fumante_nao</th>\n",
       "      <th>fumante_sim</th>\n",
       "      <th>regiao_nordeste</th>\n",
       "      <th>regiao_norte</th>\n",
       "      <th>regiao_sudeste</th>\n",
       "      <th>regiao_sul</th>\n",
       "    </tr>\n",
       "  </thead>\n",
       "  <tbody>\n",
       "    <tr>\n",
       "      <th>0</th>\n",
       "      <td>16884.92</td>\n",
       "      <td>0</td>\n",
       "      <td>1</td>\n",
       "      <td>0</td>\n",
       "      <td>1</td>\n",
       "      <td>0</td>\n",
       "      <td>0</td>\n",
       "      <td>1</td>\n",
       "      <td>0</td>\n",
       "    </tr>\n",
       "    <tr>\n",
       "      <th>1</th>\n",
       "      <td>1725.55</td>\n",
       "      <td>1</td>\n",
       "      <td>0</td>\n",
       "      <td>1</td>\n",
       "      <td>0</td>\n",
       "      <td>0</td>\n",
       "      <td>0</td>\n",
       "      <td>0</td>\n",
       "      <td>1</td>\n",
       "    </tr>\n",
       "    <tr>\n",
       "      <th>2</th>\n",
       "      <td>4449.46</td>\n",
       "      <td>1</td>\n",
       "      <td>0</td>\n",
       "      <td>1</td>\n",
       "      <td>0</td>\n",
       "      <td>0</td>\n",
       "      <td>0</td>\n",
       "      <td>0</td>\n",
       "      <td>1</td>\n",
       "    </tr>\n",
       "    <tr>\n",
       "      <th>3</th>\n",
       "      <td>21984.47</td>\n",
       "      <td>1</td>\n",
       "      <td>0</td>\n",
       "      <td>1</td>\n",
       "      <td>0</td>\n",
       "      <td>1</td>\n",
       "      <td>0</td>\n",
       "      <td>0</td>\n",
       "      <td>0</td>\n",
       "    </tr>\n",
       "    <tr>\n",
       "      <th>4</th>\n",
       "      <td>3866.86</td>\n",
       "      <td>1</td>\n",
       "      <td>0</td>\n",
       "      <td>1</td>\n",
       "      <td>0</td>\n",
       "      <td>1</td>\n",
       "      <td>0</td>\n",
       "      <td>0</td>\n",
       "      <td>0</td>\n",
       "    </tr>\n",
       "  </tbody>\n",
       "</table>\n",
       "</div>"
      ],
      "text/plain": [
       "     gastos  sexo_homem  sexo_mulher  fumante_nao  fumante_sim  \\\n",
       "0  16884.92           0            1            0            1   \n",
       "1   1725.55           1            0            1            0   \n",
       "2   4449.46           1            0            1            0   \n",
       "3  21984.47           1            0            1            0   \n",
       "4   3866.86           1            0            1            0   \n",
       "\n",
       "   regiao_nordeste  regiao_norte  regiao_sudeste  regiao_sul  \n",
       "0                0             0               1           0  \n",
       "1                0             0               0           1  \n",
       "2                0             0               0           1  \n",
       "3                1             0               0           0  \n",
       "4                1             0               0           0  "
      ]
     },
     "execution_count": 28,
     "metadata": {},
     "output_type": "execute_result"
    }
   ],
   "source": [
    "#2 - Normalização das colunas numéricas\n",
    "\n",
    "#Criando um data.frame sem as colunas que serão normalizadas\n",
    "\n",
    "df = dataset2.drop(['idade', 'bmi', 'filhos'], axis = 1)\n",
    "df.head()"
   ]
  },
  {
   "cell_type": "code",
   "execution_count": 29,
   "metadata": {},
   "outputs": [
    {
     "data": {
      "text/html": [
       "<div>\n",
       "<style scoped>\n",
       "    .dataframe tbody tr th:only-of-type {\n",
       "        vertical-align: middle;\n",
       "    }\n",
       "\n",
       "    .dataframe tbody tr th {\n",
       "        vertical-align: top;\n",
       "    }\n",
       "\n",
       "    .dataframe thead th {\n",
       "        text-align: right;\n",
       "    }\n",
       "</style>\n",
       "<table border=\"1\" class=\"dataframe\">\n",
       "  <thead>\n",
       "    <tr style=\"text-align: right;\">\n",
       "      <th></th>\n",
       "      <th>0</th>\n",
       "      <th>1</th>\n",
       "      <th>2</th>\n",
       "    </tr>\n",
       "  </thead>\n",
       "  <tbody>\n",
       "    <tr>\n",
       "      <th>0</th>\n",
       "      <td>0.021739</td>\n",
       "      <td>0.320755</td>\n",
       "      <td>0.0</td>\n",
       "    </tr>\n",
       "    <tr>\n",
       "      <th>1</th>\n",
       "      <td>0.000000</td>\n",
       "      <td>0.479784</td>\n",
       "      <td>0.2</td>\n",
       "    </tr>\n",
       "    <tr>\n",
       "      <th>2</th>\n",
       "      <td>0.217391</td>\n",
       "      <td>0.458221</td>\n",
       "      <td>0.6</td>\n",
       "    </tr>\n",
       "    <tr>\n",
       "      <th>3</th>\n",
       "      <td>0.326087</td>\n",
       "      <td>0.180593</td>\n",
       "      <td>0.0</td>\n",
       "    </tr>\n",
       "    <tr>\n",
       "      <th>4</th>\n",
       "      <td>0.304348</td>\n",
       "      <td>0.347709</td>\n",
       "      <td>0.0</td>\n",
       "    </tr>\n",
       "  </tbody>\n",
       "</table>\n",
       "</div>"
      ],
      "text/plain": [
       "          0         1    2\n",
       "0  0.021739  0.320755  0.0\n",
       "1  0.000000  0.479784  0.2\n",
       "2  0.217391  0.458221  0.6\n",
       "3  0.326087  0.180593  0.0\n",
       "4  0.304348  0.347709  0.0"
      ]
     },
     "execution_count": 29,
     "metadata": {},
     "output_type": "execute_result"
    }
   ],
   "source": [
    "#Normalizando os dados numéricos\n",
    "\n",
    "from sklearn import preprocessing\n",
    "\n",
    "x = dataset2[['idade', 'bmi', 'filhos']].values.astype(float)\n",
    "\n",
    "min_max_scaler = preprocessing.MinMaxScaler()\n",
    "\n",
    "x_scaled = min_max_scaler.fit_transform(x)\n",
    "\n",
    "df_numerico = pd.DataFrame(x_scaled)\n",
    "\n",
    "df_numerico.head()"
   ]
  },
  {
   "cell_type": "code",
   "execution_count": 30,
   "metadata": {},
   "outputs": [
    {
     "data": {
      "text/html": [
       "<div>\n",
       "<style scoped>\n",
       "    .dataframe tbody tr th:only-of-type {\n",
       "        vertical-align: middle;\n",
       "    }\n",
       "\n",
       "    .dataframe tbody tr th {\n",
       "        vertical-align: top;\n",
       "    }\n",
       "\n",
       "    .dataframe thead th {\n",
       "        text-align: right;\n",
       "    }\n",
       "</style>\n",
       "<table border=\"1\" class=\"dataframe\">\n",
       "  <thead>\n",
       "    <tr style=\"text-align: right;\">\n",
       "      <th></th>\n",
       "      <th>0</th>\n",
       "      <th>1</th>\n",
       "      <th>2</th>\n",
       "      <th>gastos</th>\n",
       "      <th>sexo_homem</th>\n",
       "      <th>sexo_mulher</th>\n",
       "      <th>fumante_nao</th>\n",
       "      <th>fumante_sim</th>\n",
       "      <th>regiao_nordeste</th>\n",
       "      <th>regiao_norte</th>\n",
       "      <th>regiao_sudeste</th>\n",
       "      <th>regiao_sul</th>\n",
       "    </tr>\n",
       "  </thead>\n",
       "  <tbody>\n",
       "    <tr>\n",
       "      <th>0</th>\n",
       "      <td>0.021739</td>\n",
       "      <td>0.320755</td>\n",
       "      <td>0.0</td>\n",
       "      <td>16884.92</td>\n",
       "      <td>0</td>\n",
       "      <td>1</td>\n",
       "      <td>0</td>\n",
       "      <td>1</td>\n",
       "      <td>0</td>\n",
       "      <td>0</td>\n",
       "      <td>1</td>\n",
       "      <td>0</td>\n",
       "    </tr>\n",
       "    <tr>\n",
       "      <th>1</th>\n",
       "      <td>0.000000</td>\n",
       "      <td>0.479784</td>\n",
       "      <td>0.2</td>\n",
       "      <td>1725.55</td>\n",
       "      <td>1</td>\n",
       "      <td>0</td>\n",
       "      <td>1</td>\n",
       "      <td>0</td>\n",
       "      <td>0</td>\n",
       "      <td>0</td>\n",
       "      <td>0</td>\n",
       "      <td>1</td>\n",
       "    </tr>\n",
       "    <tr>\n",
       "      <th>2</th>\n",
       "      <td>0.217391</td>\n",
       "      <td>0.458221</td>\n",
       "      <td>0.6</td>\n",
       "      <td>4449.46</td>\n",
       "      <td>1</td>\n",
       "      <td>0</td>\n",
       "      <td>1</td>\n",
       "      <td>0</td>\n",
       "      <td>0</td>\n",
       "      <td>0</td>\n",
       "      <td>0</td>\n",
       "      <td>1</td>\n",
       "    </tr>\n",
       "    <tr>\n",
       "      <th>3</th>\n",
       "      <td>0.326087</td>\n",
       "      <td>0.180593</td>\n",
       "      <td>0.0</td>\n",
       "      <td>21984.47</td>\n",
       "      <td>1</td>\n",
       "      <td>0</td>\n",
       "      <td>1</td>\n",
       "      <td>0</td>\n",
       "      <td>1</td>\n",
       "      <td>0</td>\n",
       "      <td>0</td>\n",
       "      <td>0</td>\n",
       "    </tr>\n",
       "    <tr>\n",
       "      <th>4</th>\n",
       "      <td>0.304348</td>\n",
       "      <td>0.347709</td>\n",
       "      <td>0.0</td>\n",
       "      <td>3866.86</td>\n",
       "      <td>1</td>\n",
       "      <td>0</td>\n",
       "      <td>1</td>\n",
       "      <td>0</td>\n",
       "      <td>1</td>\n",
       "      <td>0</td>\n",
       "      <td>0</td>\n",
       "      <td>0</td>\n",
       "    </tr>\n",
       "  </tbody>\n",
       "</table>\n",
       "</div>"
      ],
      "text/plain": [
       "          0         1    2    gastos  sexo_homem  sexo_mulher  fumante_nao  \\\n",
       "0  0.021739  0.320755  0.0  16884.92           0            1            0   \n",
       "1  0.000000  0.479784  0.2   1725.55           1            0            1   \n",
       "2  0.217391  0.458221  0.6   4449.46           1            0            1   \n",
       "3  0.326087  0.180593  0.0  21984.47           1            0            1   \n",
       "4  0.304348  0.347709  0.0   3866.86           1            0            1   \n",
       "\n",
       "   fumante_sim  regiao_nordeste  regiao_norte  regiao_sudeste  regiao_sul  \n",
       "0            1                0             0               1           0  \n",
       "1            0                0             0               0           1  \n",
       "2            0                0             0               0           1  \n",
       "3            0                1             0               0           0  \n",
       "4            0                1             0               0           0  "
      ]
     },
     "execution_count": 30,
     "metadata": {},
     "output_type": "execute_result"
    }
   ],
   "source": [
    "#Unindo os dois Dataframes novamente\n",
    "\n",
    "datasetfinal = pd.concat([df_numerico, df], axis = 1)\n",
    "datasetfinal.head()"
   ]
  },
  {
   "cell_type": "code",
   "execution_count": 31,
   "metadata": {},
   "outputs": [
    {
     "data": {
      "text/html": [
       "<div>\n",
       "<style scoped>\n",
       "    .dataframe tbody tr th:only-of-type {\n",
       "        vertical-align: middle;\n",
       "    }\n",
       "\n",
       "    .dataframe tbody tr th {\n",
       "        vertical-align: top;\n",
       "    }\n",
       "\n",
       "    .dataframe thead th {\n",
       "        text-align: right;\n",
       "    }\n",
       "</style>\n",
       "<table border=\"1\" class=\"dataframe\">\n",
       "  <thead>\n",
       "    <tr style=\"text-align: right;\">\n",
       "      <th></th>\n",
       "      <th>idade</th>\n",
       "      <th>bmi</th>\n",
       "      <th>filhos</th>\n",
       "      <th>gastos</th>\n",
       "      <th>sexo_homem</th>\n",
       "      <th>sexo_mulher</th>\n",
       "      <th>fumante_nao</th>\n",
       "      <th>fumante_sim</th>\n",
       "      <th>regiao_nordeste</th>\n",
       "      <th>regiao_norte</th>\n",
       "      <th>regiao_sudeste</th>\n",
       "      <th>regiao_sul</th>\n",
       "    </tr>\n",
       "  </thead>\n",
       "  <tbody>\n",
       "    <tr>\n",
       "      <th>0</th>\n",
       "      <td>0.021739</td>\n",
       "      <td>0.320755</td>\n",
       "      <td>0.0</td>\n",
       "      <td>16884.92</td>\n",
       "      <td>0</td>\n",
       "      <td>1</td>\n",
       "      <td>0</td>\n",
       "      <td>1</td>\n",
       "      <td>0</td>\n",
       "      <td>0</td>\n",
       "      <td>1</td>\n",
       "      <td>0</td>\n",
       "    </tr>\n",
       "    <tr>\n",
       "      <th>1</th>\n",
       "      <td>0.000000</td>\n",
       "      <td>0.479784</td>\n",
       "      <td>0.2</td>\n",
       "      <td>1725.55</td>\n",
       "      <td>1</td>\n",
       "      <td>0</td>\n",
       "      <td>1</td>\n",
       "      <td>0</td>\n",
       "      <td>0</td>\n",
       "      <td>0</td>\n",
       "      <td>0</td>\n",
       "      <td>1</td>\n",
       "    </tr>\n",
       "    <tr>\n",
       "      <th>2</th>\n",
       "      <td>0.217391</td>\n",
       "      <td>0.458221</td>\n",
       "      <td>0.6</td>\n",
       "      <td>4449.46</td>\n",
       "      <td>1</td>\n",
       "      <td>0</td>\n",
       "      <td>1</td>\n",
       "      <td>0</td>\n",
       "      <td>0</td>\n",
       "      <td>0</td>\n",
       "      <td>0</td>\n",
       "      <td>1</td>\n",
       "    </tr>\n",
       "    <tr>\n",
       "      <th>3</th>\n",
       "      <td>0.326087</td>\n",
       "      <td>0.180593</td>\n",
       "      <td>0.0</td>\n",
       "      <td>21984.47</td>\n",
       "      <td>1</td>\n",
       "      <td>0</td>\n",
       "      <td>1</td>\n",
       "      <td>0</td>\n",
       "      <td>1</td>\n",
       "      <td>0</td>\n",
       "      <td>0</td>\n",
       "      <td>0</td>\n",
       "    </tr>\n",
       "    <tr>\n",
       "      <th>4</th>\n",
       "      <td>0.304348</td>\n",
       "      <td>0.347709</td>\n",
       "      <td>0.0</td>\n",
       "      <td>3866.86</td>\n",
       "      <td>1</td>\n",
       "      <td>0</td>\n",
       "      <td>1</td>\n",
       "      <td>0</td>\n",
       "      <td>1</td>\n",
       "      <td>0</td>\n",
       "      <td>0</td>\n",
       "      <td>0</td>\n",
       "    </tr>\n",
       "  </tbody>\n",
       "</table>\n",
       "</div>"
      ],
      "text/plain": [
       "      idade       bmi  filhos    gastos  sexo_homem  sexo_mulher  fumante_nao  \\\n",
       "0  0.021739  0.320755     0.0  16884.92           0            1            0   \n",
       "1  0.000000  0.479784     0.2   1725.55           1            0            1   \n",
       "2  0.217391  0.458221     0.6   4449.46           1            0            1   \n",
       "3  0.326087  0.180593     0.0  21984.47           1            0            1   \n",
       "4  0.304348  0.347709     0.0   3866.86           1            0            1   \n",
       "\n",
       "   fumante_sim  regiao_nordeste  regiao_norte  regiao_sudeste  regiao_sul  \n",
       "0            1                0             0               1           0  \n",
       "1            0                0             0               0           1  \n",
       "2            0                0             0               0           1  \n",
       "3            0                1             0               0           0  \n",
       "4            0                1             0               0           0  "
      ]
     },
     "execution_count": 31,
     "metadata": {},
     "output_type": "execute_result"
    }
   ],
   "source": [
    "#Dando nome para as colunas que foram normalizadas.\n",
    "\n",
    "datasetfinal = datasetfinal.rename(columns ={0: 'idade', 1: 'bmi', 2:'filhos'})\n",
    "datasetfinal.head()"
   ]
  },
  {
   "cell_type": "code",
   "execution_count": 32,
   "metadata": {},
   "outputs": [],
   "source": [
    "#Com os dado organizados, limpos e normalizados, dá-se inicio ao processo de construção do modelo preditivo."
   ]
  },
  {
   "cell_type": "code",
   "execution_count": 33,
   "metadata": {},
   "outputs": [],
   "source": [
    "#Verificando a importância das variáveis"
   ]
  },
  {
   "cell_type": "code",
   "execution_count": 34,
   "metadata": {
    "scrolled": true
   },
   "outputs": [
    {
     "data": {
      "text/html": [
       "<div>\n",
       "<style scoped>\n",
       "    .dataframe tbody tr th:only-of-type {\n",
       "        vertical-align: middle;\n",
       "    }\n",
       "\n",
       "    .dataframe tbody tr th {\n",
       "        vertical-align: top;\n",
       "    }\n",
       "\n",
       "    .dataframe thead th {\n",
       "        text-align: right;\n",
       "    }\n",
       "</style>\n",
       "<table border=\"1\" class=\"dataframe\">\n",
       "  <thead>\n",
       "    <tr style=\"text-align: right;\">\n",
       "      <th></th>\n",
       "      <th>idade</th>\n",
       "      <th>bmi</th>\n",
       "      <th>filhos</th>\n",
       "      <th>gastos</th>\n",
       "      <th>sexo_homem</th>\n",
       "      <th>sexo_mulher</th>\n",
       "      <th>fumante_nao</th>\n",
       "      <th>fumante_sim</th>\n",
       "      <th>regiao_nordeste</th>\n",
       "      <th>regiao_norte</th>\n",
       "      <th>regiao_sudeste</th>\n",
       "      <th>regiao_sul</th>\n",
       "    </tr>\n",
       "  </thead>\n",
       "  <tbody>\n",
       "    <tr>\n",
       "      <th>idade</th>\n",
       "      <td>1.000000</td>\n",
       "      <td>0.109341</td>\n",
       "      <td>0.042469</td>\n",
       "      <td>0.299008</td>\n",
       "      <td>-0.020856</td>\n",
       "      <td>0.020856</td>\n",
       "      <td>0.025019</td>\n",
       "      <td>-0.025019</td>\n",
       "      <td>-0.000407</td>\n",
       "      <td>0.002475</td>\n",
       "      <td>0.010016</td>\n",
       "      <td>-0.011642</td>\n",
       "    </tr>\n",
       "    <tr>\n",
       "      <th>bmi</th>\n",
       "      <td>0.109341</td>\n",
       "      <td>1.000000</td>\n",
       "      <td>0.012645</td>\n",
       "      <td>0.198576</td>\n",
       "      <td>0.046380</td>\n",
       "      <td>-0.046380</td>\n",
       "      <td>-0.003968</td>\n",
       "      <td>0.003968</td>\n",
       "      <td>-0.135992</td>\n",
       "      <td>-0.138091</td>\n",
       "      <td>-0.006398</td>\n",
       "      <td>0.270144</td>\n",
       "    </tr>\n",
       "    <tr>\n",
       "      <th>filhos</th>\n",
       "      <td>0.042469</td>\n",
       "      <td>0.012645</td>\n",
       "      <td>1.000000</td>\n",
       "      <td>0.067998</td>\n",
       "      <td>0.017163</td>\n",
       "      <td>-0.017163</td>\n",
       "      <td>-0.007673</td>\n",
       "      <td>0.007673</td>\n",
       "      <td>0.024806</td>\n",
       "      <td>-0.022808</td>\n",
       "      <td>0.021914</td>\n",
       "      <td>-0.023066</td>\n",
       "    </tr>\n",
       "    <tr>\n",
       "      <th>gastos</th>\n",
       "      <td>0.299008</td>\n",
       "      <td>0.198576</td>\n",
       "      <td>0.067998</td>\n",
       "      <td>1.000000</td>\n",
       "      <td>0.057292</td>\n",
       "      <td>-0.057292</td>\n",
       "      <td>-0.787251</td>\n",
       "      <td>0.787251</td>\n",
       "      <td>-0.039905</td>\n",
       "      <td>0.006349</td>\n",
       "      <td>-0.043210</td>\n",
       "      <td>0.073982</td>\n",
       "    </tr>\n",
       "    <tr>\n",
       "      <th>sexo_homem</th>\n",
       "      <td>-0.020856</td>\n",
       "      <td>0.046380</td>\n",
       "      <td>0.017163</td>\n",
       "      <td>0.057292</td>\n",
       "      <td>1.000000</td>\n",
       "      <td>-1.000000</td>\n",
       "      <td>-0.076185</td>\n",
       "      <td>0.076185</td>\n",
       "      <td>-0.011156</td>\n",
       "      <td>-0.002425</td>\n",
       "      <td>-0.004184</td>\n",
       "      <td>0.017117</td>\n",
       "    </tr>\n",
       "    <tr>\n",
       "      <th>sexo_mulher</th>\n",
       "      <td>0.020856</td>\n",
       "      <td>-0.046380</td>\n",
       "      <td>-0.017163</td>\n",
       "      <td>-0.057292</td>\n",
       "      <td>-1.000000</td>\n",
       "      <td>1.000000</td>\n",
       "      <td>0.076185</td>\n",
       "      <td>-0.076185</td>\n",
       "      <td>0.011156</td>\n",
       "      <td>0.002425</td>\n",
       "      <td>0.004184</td>\n",
       "      <td>-0.017117</td>\n",
       "    </tr>\n",
       "    <tr>\n",
       "      <th>fumante_nao</th>\n",
       "      <td>0.025019</td>\n",
       "      <td>-0.003968</td>\n",
       "      <td>-0.007673</td>\n",
       "      <td>-0.787251</td>\n",
       "      <td>-0.076185</td>\n",
       "      <td>0.076185</td>\n",
       "      <td>1.000000</td>\n",
       "      <td>-1.000000</td>\n",
       "      <td>0.036945</td>\n",
       "      <td>-0.002811</td>\n",
       "      <td>0.036945</td>\n",
       "      <td>-0.068498</td>\n",
       "    </tr>\n",
       "    <tr>\n",
       "      <th>fumante_sim</th>\n",
       "      <td>-0.025019</td>\n",
       "      <td>0.003968</td>\n",
       "      <td>0.007673</td>\n",
       "      <td>0.787251</td>\n",
       "      <td>0.076185</td>\n",
       "      <td>-0.076185</td>\n",
       "      <td>-1.000000</td>\n",
       "      <td>1.000000</td>\n",
       "      <td>-0.036945</td>\n",
       "      <td>0.002811</td>\n",
       "      <td>-0.036945</td>\n",
       "      <td>0.068498</td>\n",
       "    </tr>\n",
       "    <tr>\n",
       "      <th>regiao_nordeste</th>\n",
       "      <td>-0.000407</td>\n",
       "      <td>-0.135992</td>\n",
       "      <td>0.024806</td>\n",
       "      <td>-0.039905</td>\n",
       "      <td>-0.011156</td>\n",
       "      <td>0.011156</td>\n",
       "      <td>0.036945</td>\n",
       "      <td>-0.036945</td>\n",
       "      <td>1.000000</td>\n",
       "      <td>-0.320177</td>\n",
       "      <td>-0.320829</td>\n",
       "      <td>-0.346265</td>\n",
       "    </tr>\n",
       "    <tr>\n",
       "      <th>regiao_norte</th>\n",
       "      <td>0.002475</td>\n",
       "      <td>-0.138091</td>\n",
       "      <td>-0.022808</td>\n",
       "      <td>0.006349</td>\n",
       "      <td>-0.002425</td>\n",
       "      <td>0.002425</td>\n",
       "      <td>-0.002811</td>\n",
       "      <td>0.002811</td>\n",
       "      <td>-0.320177</td>\n",
       "      <td>1.000000</td>\n",
       "      <td>-0.320177</td>\n",
       "      <td>-0.345561</td>\n",
       "    </tr>\n",
       "    <tr>\n",
       "      <th>regiao_sudeste</th>\n",
       "      <td>0.010016</td>\n",
       "      <td>-0.006398</td>\n",
       "      <td>0.021914</td>\n",
       "      <td>-0.043210</td>\n",
       "      <td>-0.004184</td>\n",
       "      <td>0.004184</td>\n",
       "      <td>0.036945</td>\n",
       "      <td>-0.036945</td>\n",
       "      <td>-0.320829</td>\n",
       "      <td>-0.320177</td>\n",
       "      <td>1.000000</td>\n",
       "      <td>-0.346265</td>\n",
       "    </tr>\n",
       "    <tr>\n",
       "      <th>regiao_sul</th>\n",
       "      <td>-0.011642</td>\n",
       "      <td>0.270144</td>\n",
       "      <td>-0.023066</td>\n",
       "      <td>0.073982</td>\n",
       "      <td>0.017117</td>\n",
       "      <td>-0.017117</td>\n",
       "      <td>-0.068498</td>\n",
       "      <td>0.068498</td>\n",
       "      <td>-0.346265</td>\n",
       "      <td>-0.345561</td>\n",
       "      <td>-0.346265</td>\n",
       "      <td>1.000000</td>\n",
       "    </tr>\n",
       "  </tbody>\n",
       "</table>\n",
       "</div>"
      ],
      "text/plain": [
       "                    idade       bmi    filhos    gastos  sexo_homem  \\\n",
       "idade            1.000000  0.109341  0.042469  0.299008   -0.020856   \n",
       "bmi              0.109341  1.000000  0.012645  0.198576    0.046380   \n",
       "filhos           0.042469  0.012645  1.000000  0.067998    0.017163   \n",
       "gastos           0.299008  0.198576  0.067998  1.000000    0.057292   \n",
       "sexo_homem      -0.020856  0.046380  0.017163  0.057292    1.000000   \n",
       "sexo_mulher      0.020856 -0.046380 -0.017163 -0.057292   -1.000000   \n",
       "fumante_nao      0.025019 -0.003968 -0.007673 -0.787251   -0.076185   \n",
       "fumante_sim     -0.025019  0.003968  0.007673  0.787251    0.076185   \n",
       "regiao_nordeste -0.000407 -0.135992  0.024806 -0.039905   -0.011156   \n",
       "regiao_norte     0.002475 -0.138091 -0.022808  0.006349   -0.002425   \n",
       "regiao_sudeste   0.010016 -0.006398  0.021914 -0.043210   -0.004184   \n",
       "regiao_sul      -0.011642  0.270144 -0.023066  0.073982    0.017117   \n",
       "\n",
       "                 sexo_mulher  fumante_nao  fumante_sim  regiao_nordeste  \\\n",
       "idade               0.020856     0.025019    -0.025019        -0.000407   \n",
       "bmi                -0.046380    -0.003968     0.003968        -0.135992   \n",
       "filhos             -0.017163    -0.007673     0.007673         0.024806   \n",
       "gastos             -0.057292    -0.787251     0.787251        -0.039905   \n",
       "sexo_homem         -1.000000    -0.076185     0.076185        -0.011156   \n",
       "sexo_mulher         1.000000     0.076185    -0.076185         0.011156   \n",
       "fumante_nao         0.076185     1.000000    -1.000000         0.036945   \n",
       "fumante_sim        -0.076185    -1.000000     1.000000        -0.036945   \n",
       "regiao_nordeste     0.011156     0.036945    -0.036945         1.000000   \n",
       "regiao_norte        0.002425    -0.002811     0.002811        -0.320177   \n",
       "regiao_sudeste      0.004184     0.036945    -0.036945        -0.320829   \n",
       "regiao_sul         -0.017117    -0.068498     0.068498        -0.346265   \n",
       "\n",
       "                 regiao_norte  regiao_sudeste  regiao_sul  \n",
       "idade                0.002475        0.010016   -0.011642  \n",
       "bmi                 -0.138091       -0.006398    0.270144  \n",
       "filhos              -0.022808        0.021914   -0.023066  \n",
       "gastos               0.006349       -0.043210    0.073982  \n",
       "sexo_homem          -0.002425       -0.004184    0.017117  \n",
       "sexo_mulher          0.002425        0.004184   -0.017117  \n",
       "fumante_nao         -0.002811        0.036945   -0.068498  \n",
       "fumante_sim          0.002811       -0.036945    0.068498  \n",
       "regiao_nordeste     -0.320177       -0.320829   -0.346265  \n",
       "regiao_norte         1.000000       -0.320177   -0.345561  \n",
       "regiao_sudeste      -0.320177        1.000000   -0.346265  \n",
       "regiao_sul          -0.345561       -0.346265    1.000000  "
      ]
     },
     "execution_count": 34,
     "metadata": {},
     "output_type": "execute_result"
    }
   ],
   "source": [
    "#Verificando a correlação de forma gráfica utilizado o dataset inteiro\n",
    "\n",
    "datasetfinal.corr()"
   ]
  },
  {
   "cell_type": "code",
   "execution_count": 35,
   "metadata": {},
   "outputs": [
    {
     "data": {
      "text/plain": [
       "<matplotlib.axes._subplots.AxesSubplot at 0x24f1f9f2a90>"
      ]
     },
     "execution_count": 35,
     "metadata": {},
     "output_type": "execute_result"
    },
    {
     "data": {
      "image/png": "[encoded data removed]",
      "text/plain": [
       "<Figure size 432x288 with 2 Axes>"
      ]
     },
     "metadata": {
      "needs_background": "light"
     },
     "output_type": "display_data"
    }
   ],
   "source": [
    "sns.heatmap(datasetfinal.corr(),cmap=\"YlGnBu\",vmax=1.0, vmin = -1.0, center=0,\n",
    "            square=True, linewidths=.7, cbar_kws={\"shrink\": .5})\n",
    "\n",
    "\n",
    "#Variáveis escolhidas: idade, bmi, fumante e filhos.\n",
    "#A presença de filhos na família, diferença de sexo ou região não apresentam impacto significativo na quantia média gasta \n",
    "#em hospitais de acordo com a análise dos dados. Porém, é sensato deduzir que um paciente que possua mais filhos tenha uma tendência\n",
    "#a ter mais despesas hospitalares pelo fato da probabilidade de uma ocorrência médica aumentar.\n",
    "\n",
    "#Como possível causa desse ''desencontro'' entre a análise de dados e as conclusões obtidas a partir da observação do mundo real,\n",
    "#pode-se apontar o alto número pacientes no dataset que possuem 0 filhos (mostrado no Histograma acima).\n",
    "#Sendo assim,o tamanho da amostra do estudo em questão pode\n",
    "#não ter sido suficiente para que essa relação fosse aprendida pelo modelo. Porém é de responsabilidade do cientista \n",
    "#de dados analisar o mundo a sua volta e, se necessário, considerar importantes algumas variáveis que por alguma razão o modelo\n",
    "#não considere. \n"
   ]
  },
  {
   "cell_type": "code",
   "execution_count": 36,
   "metadata": {},
   "outputs": [],
   "source": [
    "#Divisão do dataset (75% para dados de treino e 25% para dados de teste)\n",
    "from sklearn.model_selection import train_test_split\n",
    "\n",
    "x = datasetfinal.drop('gastos', axis = 1)\n",
    "y = datasetfinal['gastos']\n",
    "x_train, x_test, y_train, y_test = train_test_split(x, y, test_size=0.25, random_state=0)\n"
   ]
  },
  {
   "cell_type": "code",
   "execution_count": 37,
   "metadata": {},
   "outputs": [
    {
     "data": {
      "text/html": [
       "<table class=\"simpletable\">\n",
       "<caption>OLS Regression Results</caption>\n",
       "<tr>\n",
       "  <th>Dep. Variable:</th>         <td>gastos</td>      <th>  R-squared:         </th> <td>   0.733</td> \n",
       "</tr>\n",
       "<tr>\n",
       "  <th>Model:</th>                   <td>OLS</td>       <th>  Adj. R-squared:    </th> <td>   0.732</td> \n",
       "</tr>\n",
       "<tr>\n",
       "  <th>Method:</th>             <td>Least Squares</td>  <th>  F-statistic:       </th> <td>   684.1</td> \n",
       "</tr>\n",
       "<tr>\n",
       "  <th>Date:</th>             <td>Fri, 15 Feb 2019</td> <th>  Prob (F-statistic):</th> <td>3.93e-284</td>\n",
       "</tr>\n",
       "<tr>\n",
       "  <th>Time:</th>                 <td>18:58:25</td>     <th>  Log-Likelihood:    </th> <td> -10178.</td> \n",
       "</tr>\n",
       "<tr>\n",
       "  <th>No. Observations:</th>      <td>  1003</td>      <th>  AIC:               </th> <td>2.037e+04</td>\n",
       "</tr>\n",
       "<tr>\n",
       "  <th>Df Residuals:</th>          <td>   998</td>      <th>  BIC:               </th> <td>2.039e+04</td>\n",
       "</tr>\n",
       "<tr>\n",
       "  <th>Df Model:</th>              <td>     4</td>      <th>                     </th>     <td> </td>    \n",
       "</tr>\n",
       "<tr>\n",
       "  <th>Covariance Type:</th>      <td>nonrobust</td>    <th>                     </th>     <td> </td>    \n",
       "</tr>\n",
       "</table>\n",
       "<table class=\"simpletable\">\n",
       "<tr>\n",
       "       <td></td>          <th>coef</th>     <th>std err</th>      <th>t</th>      <th>P>|t|</th>  <th>[0.025</th>    <th>0.975]</th>  \n",
       "</tr>\n",
       "<tr>\n",
       "  <th>Intercept</th>   <td> 6535.8034</td> <td>  395.308</td> <td>   16.533</td> <td> 0.000</td> <td> 5760.073</td> <td> 7311.534</td>\n",
       "</tr>\n",
       "<tr>\n",
       "  <th>idade</th>       <td> 1.158e+04</td> <td>  646.661</td> <td>   17.907</td> <td> 0.000</td> <td> 1.03e+04</td> <td> 1.28e+04</td>\n",
       "</tr>\n",
       "<tr>\n",
       "  <th>bmi</th>         <td> 1.165e+04</td> <td> 1172.280</td> <td>    9.941</td> <td> 0.000</td> <td> 9353.611</td> <td>  1.4e+04</td>\n",
       "</tr>\n",
       "<tr>\n",
       "  <th>fumante_sim</th> <td> 1.508e+04</td> <td>  345.950</td> <td>   43.591</td> <td> 0.000</td> <td> 1.44e+04</td> <td> 1.58e+04</td>\n",
       "</tr>\n",
       "<tr>\n",
       "  <th>fumante_nao</th> <td>-8544.3498</td> <td>  278.214</td> <td>  -30.711</td> <td> 0.000</td> <td>-9090.301</td> <td>-7998.399</td>\n",
       "</tr>\n",
       "<tr>\n",
       "  <th>filhos</th>      <td> 2195.3923</td> <td>  812.508</td> <td>    2.702</td> <td> 0.007</td> <td>  600.973</td> <td> 3789.812</td>\n",
       "</tr>\n",
       "</table>\n",
       "<table class=\"simpletable\">\n",
       "<tr>\n",
       "  <th>Omnibus:</th>       <td>248.424</td> <th>  Durbin-Watson:     </th> <td>   2.009</td> \n",
       "</tr>\n",
       "<tr>\n",
       "  <th>Prob(Omnibus):</th> <td> 0.000</td>  <th>  Jarque-Bera (JB):  </th> <td> 613.655</td> \n",
       "</tr>\n",
       "<tr>\n",
       "  <th>Skew:</th>          <td> 1.305</td>  <th>  Prob(JB):          </th> <td>5.58e-134</td>\n",
       "</tr>\n",
       "<tr>\n",
       "  <th>Kurtosis:</th>      <td> 5.806</td>  <th>  Cond. No.          </th> <td>1.18e+16</td> \n",
       "</tr>\n",
       "</table><br/><br/>Warnings:<br/>[1] Standard Errors assume that the covariance matrix of the errors is correctly specified.<br/>[2] The smallest eigenvalue is 1.54e-29. This might indicate that there are<br/>strong multicollinearity problems or that the design matrix is singular."
      ],
      "text/plain": [
       "<class 'statsmodels.iolib.summary.Summary'>\n",
       "\"\"\"\n",
       "                            OLS Regression Results                            \n",
       "==============================================================================\n",
       "Dep. Variable:                 gastos   R-squared:                       0.733\n",
       "Model:                            OLS   Adj. R-squared:                  0.732\n",
       "Method:                 Least Squares   F-statistic:                     684.1\n",
       "Date:                Fri, 15 Feb 2019   Prob (F-statistic):          3.93e-284\n",
       "Time:                        18:58:25   Log-Likelihood:                -10178.\n",
       "No. Observations:                1003   AIC:                         2.037e+04\n",
       "Df Residuals:                     998   BIC:                         2.039e+04\n",
       "Df Model:                           4                                         \n",
       "Covariance Type:            nonrobust                                         \n",
       "===============================================================================\n",
       "                  coef    std err          t      P>|t|      [0.025      0.975]\n",
       "-------------------------------------------------------------------------------\n",
       "Intercept    6535.8034    395.308     16.533      0.000    5760.073    7311.534\n",
       "idade        1.158e+04    646.661     17.907      0.000    1.03e+04    1.28e+04\n",
       "bmi          1.165e+04   1172.280      9.941      0.000    9353.611     1.4e+04\n",
       "fumante_sim  1.508e+04    345.950     43.591      0.000    1.44e+04    1.58e+04\n",
       "fumante_nao -8544.3498    278.214    -30.711      0.000   -9090.301   -7998.399\n",
       "filhos       2195.3923    812.508      2.702      0.007     600.973    3789.812\n",
       "==============================================================================\n",
       "Omnibus:                      248.424   Durbin-Watson:                   2.009\n",
       "Prob(Omnibus):                  0.000   Jarque-Bera (JB):              613.655\n",
       "Skew:                           1.305   Prob(JB):                    5.58e-134\n",
       "Kurtosis:                       5.806   Cond. No.                     1.18e+16\n",
       "==============================================================================\n",
       "\n",
       "Warnings:\n",
       "[1] Standard Errors assume that the covariance matrix of the errors is correctly specified.\n",
       "[2] The smallest eigenvalue is 1.54e-29. This might indicate that there are\n",
       "strong multicollinearity problems or that the design matrix is singular.\n",
       "\"\"\""
      ]
     },
     "execution_count": 37,
     "metadata": {},
     "output_type": "execute_result"
    }
   ],
   "source": [
    "#Criando o modelo de Regressão Linear\n",
    "\n",
    "#Utilizando o pacote statsmodels para uma melhor visualização dos resultados do treinamento do modelo.\n",
    "import statsmodels.formula.api as smf\n",
    "\n",
    "#Antes de criar o modelo, é necessário juntar x_train e y_train\n",
    "datasetmodelo1 = pd.concat([x_train, y_train], axis = 1)\n",
    "\n",
    "modelo1 = smf.ols(formula='gastos ~ idade + bmi + fumante_sim + fumante_nao+filhos', data=datasetmodelo1).fit()\n",
    "\n",
    "modelo1.summary()\n",
    "\n",
    "\n",
    "#O modelo foi capaz de realizar as previsões no dataset de treino com 73,2% de precisão."
   ]
  },
  {
   "cell_type": "code",
   "execution_count": 38,
   "metadata": {
    "scrolled": true
   },
   "outputs": [
    {
     "data": {
      "text/html": [
       "<div>\n",
       "<style scoped>\n",
       "    .dataframe tbody tr th:only-of-type {\n",
       "        vertical-align: middle;\n",
       "    }\n",
       "\n",
       "    .dataframe tbody tr th {\n",
       "        vertical-align: top;\n",
       "    }\n",
       "\n",
       "    .dataframe thead th {\n",
       "        text-align: right;\n",
       "    }\n",
       "</style>\n",
       "<table border=\"1\" class=\"dataframe\">\n",
       "  <thead>\n",
       "    <tr style=\"text-align: right;\">\n",
       "      <th></th>\n",
       "      <th>previsto</th>\n",
       "      <th>gastos</th>\n",
       "    </tr>\n",
       "  </thead>\n",
       "  <tbody>\n",
       "    <tr>\n",
       "      <th>578</th>\n",
       "      <td>11450.148396</td>\n",
       "      <td>9724.53</td>\n",
       "    </tr>\n",
       "    <tr>\n",
       "      <th>610</th>\n",
       "      <td>9940.165518</td>\n",
       "      <td>8547.69</td>\n",
       "    </tr>\n",
       "    <tr>\n",
       "      <th>569</th>\n",
       "      <td>37773.680775</td>\n",
       "      <td>45702.02</td>\n",
       "    </tr>\n",
       "    <tr>\n",
       "      <th>1034</th>\n",
       "      <td>15852.522355</td>\n",
       "      <td>12950.07</td>\n",
       "    </tr>\n",
       "    <tr>\n",
       "      <th>198</th>\n",
       "      <td>6958.423941</td>\n",
       "      <td>9644.25</td>\n",
       "    </tr>\n",
       "  </tbody>\n",
       "</table>\n",
       "</div>"
      ],
      "text/plain": [
       "          previsto    gastos\n",
       "578   11450.148396   9724.53\n",
       "610    9940.165518   8547.69\n",
       "569   37773.680775  45702.02\n",
       "1034  15852.522355  12950.07\n",
       "198    6958.423941   9644.25"
      ]
     },
     "execution_count": 38,
     "metadata": {},
     "output_type": "execute_result"
    }
   ],
   "source": [
    "#Realizando o teste do modelo com os dados de teste para verificar a real eficácia do modelo.\n",
    "\n",
    "previsao = modelo1.predict(x_test)\n",
    "real = y_test\n",
    "comparativo = pd.concat([previsao, real], axis = 1)\n",
    "comparativo = comparativo.rename(columns = {0:'previsto'})\n",
    "comparativo.head()"
   ]
  },
  {
   "cell_type": "code",
   "execution_count": 39,
   "metadata": {},
   "outputs": [
    {
     "name": "stdout",
     "output_type": "stream",
     "text": [
      "MSE (erro médio) = 32231120.285502\n",
      "RMSE = 5677.2458362750185\n",
      "A precisão do modelo é de :0.795273\n"
     ]
    }
   ],
   "source": [
    "#Calculando a precisão do modelo\n",
    "\n",
    "from sklearn import metrics\n",
    "from sklearn.metrics import r2_score\n",
    "\n",
    "print(\"MSE (erro médio) = %f\" %metrics.mean_squared_error(real, previsao))\n",
    "print(\"RMSE = %r\" %np.sqrt(metrics.mean_squared_error(real, previsao)))\n",
    "\n",
    "print(\"A precisão do modelo é de :%g\" %r2_score(real, previsao))"
   ]
  },
  {
   "cell_type": "code",
   "execution_count": 40,
   "metadata": {},
   "outputs": [
    {
     "data": {
      "text/plain": [
       "Text(0.5, 1.0, 'Histograma dos resíduos da previsão')"
      ]
     },
     "execution_count": 40,
     "metadata": {},
     "output_type": "execute_result"
    },
    {
     "data": {
      "image/png": "[encoded data removed]",
      "text/plain": [
       "<Figure size 432x288 with 1 Axes>"
      ]
     },
     "metadata": {
      "needs_background": "light"
     },
     "output_type": "display_data"
    }
   ],
   "source": [
    "#Analisando a distribuição dos resíduos\n",
    "\n",
    "sns.distplot((real-previsao))\n",
    "plt.xlabel('Tamanho do resíduo')\n",
    "plt.ylabel('Freq Ocorrência')\n",
    "plt.title('Histograma dos resíduos da previsão')\n",
    "\n",
    "\n",
    "#Os resíduos apresentam algumas características de uma distribuição normal (valores em volta da média), que seria o ideal no caso de um modelo preditivo preciso.\n",
    "#Porém, pode-se perceber distorções dessa distribuição em valores outliers (para mais ou menos de 10000-15000 reais.)\n",
    "#Sendo assim, será utilizado outro algoritmo para tentar realizar um modelo preditivo que realize as previsões de forma mais acertiva, de forma a reduzir a ocorrência destes valores extremos."
   ]
  },
  {
   "cell_type": "code",
   "execution_count": 41,
   "metadata": {},
   "outputs": [],
   "source": [
    "#Através da regressão linear, o modelo foi capaz de prever a despesa hospitalar de 335 pacientes com 79,5% de acurácia.\n",
    "\n",
    "#Agora, será verificado a acurácia do modelo por meio de outro algoritmo: o RandomForest. O algoritmo RandomForest gera inúmeras\n",
    "#árvores de decisão que depois são utilizadas para realizar tarefas de regressão com a maior acurácia possível.\n",
    "\n"
   ]
  },
  {
   "cell_type": "code",
   "execution_count": 42,
   "metadata": {},
   "outputs": [],
   "source": [
    "#Criação do modelo preditivo utilizando o algoritmo RandomForest"
   ]
  },
  {
   "cell_type": "code",
   "execution_count": 43,
   "metadata": {},
   "outputs": [
    {
     "name": "stdout",
     "output_type": "stream",
     "text": [
      "Nos dados de treino a precisão do modelo preditivo é de 0.967482\n"
     ]
    }
   ],
   "source": [
    "from sklearn.ensemble import RandomForestRegressor\n",
    "\n",
    "# Treinar o modelo com 20 árvores de decisão\n",
    "modelo2 = RandomForestRegressor(n_estimators = 20, random_state = 42)\n",
    "\n",
    "# Treinando o modelo com o dataset de treino com as variáveis importantes\n",
    "\n",
    "modelo2.fit(x_train[['idade', 'bmi', 'filhos', 'fumante_sim', 'fumante_nao']], y_train)\n",
    "\n",
    "#Calculando a precisão do modelo\n",
    "R2 = modelo2.score(x_train[['idade', 'bmi', 'filhos', 'fumante_sim', 'fumante_nao']], y_train)\n",
    "\n",
    "print(\"Nos dados de treino a precisão do modelo preditivo é de %g\" %R2)"
   ]
  },
  {
   "cell_type": "code",
   "execution_count": 44,
   "metadata": {},
   "outputs": [
    {
     "name": "stdout",
     "output_type": "stream",
     "text": [
      "MSE (erro médio) = 23165296.545368\n",
      "RMSE = 4813.034027031993\n",
      "Nos dados de teste a precisão do modelo é de = 0.852858\n"
     ]
    }
   ],
   "source": [
    "#Testando o modelo\n",
    "\n",
    "\n",
    "previsao2 = modelo2.predict(x_test[['idade', 'bmi', 'filhos', 'fumante_sim', 'fumante_nao']])\n",
    "\n",
    "print(\"MSE (erro médio) = %f\" %metrics.mean_squared_error(y_test, previsao2))\n",
    "print(\"RMSE = %r\" %np.sqrt(metrics.mean_squared_error(y_test, previsao2)))\n",
    "\n",
    "print(\"Nos dados de teste a precisão do modelo é de = %g\" %r2_score(y_test, previsao2))\n"
   ]
  },
  {
   "cell_type": "code",
   "execution_count": 45,
   "metadata": {},
   "outputs": [
    {
     "data": {
      "text/plain": [
       "-816.2344534328362"
      ]
     },
     "execution_count": 45,
     "metadata": {},
     "output_type": "execute_result"
    },
    {
     "data": {
      "image/png": "[encoded data removed]",
      "text/plain": [
       "<Figure size 432x288 with 1 Axes>"
      ]
     },
     "metadata": {
      "needs_background": "light"
     },
     "output_type": "display_data"
    }
   ],
   "source": [
    "#Analisando a distribuição dos resíduos\n",
    "\n",
    "sns.distplot((y_test-previsao2))\n",
    "plt.xlabel('Tamanho do resíduo')\n",
    "plt.ylabel('Freq Ocorrência')\n",
    "plt.title('Histograma dos resíduos da previsão (RandomForest)')\n",
    "\n",
    "(y_test-previsao2).mean()"
   ]
  },
  {
   "cell_type": "code",
   "execution_count": 46,
   "metadata": {},
   "outputs": [],
   "source": [
    "#A diferença entre a distribuição dos resíduos é significativa. Utilizando o algoritmo RandomForest, os resíduos estão melhor\n",
    "#distribuídos entre a média e os picos de 'distorção' foram drasticamente reduzidos. Somado ao fato de que o modelo2 apresentou\n",
    "#precisão de 85,2%, podemos afirmar que o modelo preditivo feito através do algoritmo RandomForest é o mais indicado para\n",
    "#a previsão de despesas hospitalares."
   ]
  },
  {
   "cell_type": "code",
   "execution_count": null,
   "metadata": {},
   "outputs": [],
   "source": []
  },
  {
   "cell_type": "code",
   "execution_count": null,
   "metadata": {},
   "outputs": [],
   "source": []
  },
  {
   "cell_type": "code",
   "execution_count": null,
   "metadata": {},
   "outputs": [],
   "source": []
  },
  {
   "cell_type": "code",
   "execution_count": null,
   "metadata": {},
   "outputs": [],
   "source": []
  }
 ],
 "metadata": {
  "kernelspec": {
   "display_name": "Python 3",
   "language": "python",
   "name": "python3"
  },
  "language_info": {
   "codemirror_mode": {
    "name": "ipython",
    "version": 3
   },
   "file_extension": ".py",
   "mimetype": "text/x-python",
   "name": "python",
   "nbconvert_exporter": "python",
   "pygments_lexer": "ipython3",
   "version": "3.7.1"
  }
 },
 "nbformat": 4,
 "nbformat_minor": 2
}
